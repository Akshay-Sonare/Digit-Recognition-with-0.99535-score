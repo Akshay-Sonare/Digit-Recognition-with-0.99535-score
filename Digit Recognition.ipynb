{
 "cells": [
  {
   "cell_type": "code",
   "execution_count": 1,
   "metadata": {},
   "outputs": [
    {
     "name": "stderr",
     "output_type": "stream",
     "text": [
      "Using TensorFlow backend.\n"
     ]
    }
   ],
   "source": [
    "# Ignore Warning\n",
    "import warnings\n",
    "warnings.simplefilter(action='ignore', category=FutureWarning)\n",
    "\n",
    "#Import required libraries\n",
    "import tensorflow as tf\n",
    "import keras\n",
    "import numpy as np\n",
    "import pandas as pd\n",
    "import matplotlib.pyplot as plt\n",
    "import seaborn as sns\n",
    "%matplotlib inline\n",
    "\n",
    "from sklearn.model_selection import train_test_split\n",
    "from keras.utils.np_utils import to_categorical"
   ]
  },
  {
   "cell_type": "code",
   "execution_count": 2,
   "metadata": {},
   "outputs": [],
   "source": [
    "#Read the CSV file.\n",
    "train = pd.read_csv('train.csv')\n",
    "test = pd.read_csv('test.csv')"
   ]
  },
  {
   "cell_type": "code",
   "execution_count": 3,
   "metadata": {},
   "outputs": [],
   "source": [
    "#Prepare train and test DF\n",
    "y_train = train['label']\n",
    "X_train = train.drop(['label'], axis = 1)\n",
    "X_test = test.copy()\n",
    "#Delete to free up space \n",
    "del train\n",
    "del test\n",
    "random_seed = 2\n",
    "#splitting training data into train and validation data in 9:1 ratio\n",
    "X_train, X_val, y_train, y_val = train_test_split(X_train, y_train, test_size = 0.1, random_state = random_seed)"
   ]
  },
  {
   "cell_type": "code",
   "execution_count": 4,
   "metadata": {},
   "outputs": [
    {
     "data": {
      "text/plain": [
       "<matplotlib.axes._subplots.AxesSubplot at 0x26cf576fa08>"
      ]
     },
     "execution_count": 4,
     "metadata": {},
     "output_type": "execute_result"
    },
    {
     "data": {
      "image/png": "[encoded data removed]",
      "text/plain": [
       "<Figure size 864x288 with 2 Axes>"
      ]
     },
     "metadata": {
      "needs_background": "light"
     },
     "output_type": "display_data"
    }
   ],
   "source": [
    "#No of examples according to laebl\n",
    "fig, axs = plt.subplots(nrows = 1, ncols=2,figsize = (12,4))\n",
    "sns.countplot(y_train, ax= axs[0])\n",
    "sns.countplot(y_val,  ax = axs[1])"
   ]
  },
  {
   "cell_type": "code",
   "execution_count": 5,
   "metadata": {},
   "outputs": [],
   "source": [
    "#one hot encoding on train and validation data\n",
    "pd.set_option('display.max_columns',800)\n",
    "y_train = to_categorical(y_train, num_classes = 10)\n",
    "y_val =  to_categorical(y_val, num_classes = 10)"
   ]
  },
  {
   "cell_type": "code",
   "execution_count": 6,
   "metadata": {},
   "outputs": [
    {
     "data": {
      "text/plain": [
       "(4200, 10)"
      ]
     },
     "execution_count": 6,
     "metadata": {},
     "output_type": "execute_result"
    }
   ],
   "source": [
    "y_val.shape"
   ]
  },
  {
   "cell_type": "code",
   "execution_count": 7,
   "metadata": {},
   "outputs": [],
   "source": [
    "#Normalize the train, test, validation data\n",
    "X_train = X_train/255.0\n",
    "X_test = X_test/255.0\n",
    "X_val = X_val/255.0\n",
    "\n",
    "#Reshape data into 28*28*1 dimention(grey scale image)\n",
    "X_train = X_train.values.reshape(-1, 28, 28, 1)\n",
    "X_test = X_test.values.reshape(-1, 28, 28, 1)\n",
    "X_val = X_val.values.reshape(-1, 28, 28, 1)"
   ]
  },
  {
   "cell_type": "code",
   "execution_count": 8,
   "metadata": {},
   "outputs": [],
   "source": [
    "#display train set exampples\n",
    "def display_img():\n",
    "    fig,axs = plt.subplots(nrows = 2, ncols = 5, figsize=(10,4))\n",
    "    axs = axs.ravel()\n",
    "    for i in range(0,10):\n",
    "        random_select = np.random.randint(0, X_train.shape[0])\n",
    "        axs[i].imshow(X_train[random_select][:,:,0])\n",
    "        axs[i].axis('off')\n",
    "\n",
    "    plt.subplots_adjust(hspace = 0.3, wspace = 0.7)"
   ]
  },
  {
   "cell_type": "code",
   "execution_count": 9,
   "metadata": {},
   "outputs": [
    {
     "data": {
      "image/png": "[encoded data removed]",
      "text/plain": [
       "<Figure size 720x288 with 10 Axes>"
      ]
     },
     "metadata": {
      "needs_background": "light"
     },
     "output_type": "display_data"
    }
   ],
   "source": [
    "display_img()"
   ]
  },
  {
   "cell_type": "code",
   "execution_count": 37,
   "metadata": {},
   "outputs": [],
   "source": [
    "#Define CNN Model\n",
    "\n",
    "from keras.models import Sequential\n",
    "from keras.layers import Dense, Dropout, Flatten, Conv2D, MaxPool2D, BatchNormalization\n",
    "from keras.optimizers import RMSprop, Adam, SGD\n",
    "from keras.preprocessing.image import ImageDataGenerator\n",
    "from keras.callbacks import ReduceLROnPlateau\n",
    "\n",
    "def define_model():\n",
    "        model = Sequential()\n",
    "        model.add(Conv2D(filters = 32, kernel_size = (5,5),padding = 'Same', \n",
    "                         activation ='relu', input_shape = (28,28,1)))\n",
    "        #Remove comment for better acuracy and run the model. But it cost double the computation time for me\n",
    "        '''model.add(Conv2D(filters = 32, kernel_size = (5,5),padding = 'Same', \n",
    "                        activation ='relu'))'''\n",
    "        model.add(BatchNormalization())\n",
    "        model.add(MaxPool2D(pool_size=(2,2)))\n",
    "        model.add(Dropout(0.2))\n",
    "\n",
    "\n",
    "        model.add(Conv2D(filters = 64, kernel_size = (3,3),padding = 'Same', \n",
    "                         activation ='relu'))\n",
    "        #Remove comment for better accuracy and run the model. But it cost double the computation time for me\n",
    "        '''model.add(Conv2D(filters = 64, kernel_size = (3,3),padding = 'Same', \n",
    "                         activation ='relu'))'''\n",
    "        model.add(BatchNormalization())\n",
    "        model.add(MaxPool2D(pool_size=(2,2), strides=(2,2)))\n",
    "        model.add(Dropout(0.2))\n",
    "        \n",
    "        model.add(Flatten())\n",
    "        model.add(Dense(512, activation = \"relu\"))\n",
    "        model.add(BatchNormalization())\n",
    "        model.add(Dropout(0.3))\n",
    "        model.add(Dense(10, activation = \"softmax\"))\n",
    "        model.compile(optimizer = 'adam' , loss = 'categorical_crossentropy' , metrics = ['accuracy'])\n",
    "        return model"
   ]
  },
  {
   "cell_type": "code",
   "execution_count": 38,
   "metadata": {},
   "outputs": [],
   "source": [
    "#data augmentation to prevent overfitting\n",
    "\n",
    "datagen = ImageDataGenerator(\n",
    "        featurewise_center=False,  # set input mean to 0 over the dataset\n",
    "        samplewise_center=False,  # set each sample mean to 0\n",
    "        featurewise_std_normalization=False,  # divide inputs by std of the dataset\n",
    "        samplewise_std_normalization=False,  # divide each input by its std\n",
    "        zca_whitening=False,  # apply ZCA whitening\n",
    "        rotation_range=10,  # randomly rotate images in the range (degrees, 0 to 180)\n",
    "        zoom_range = 0.1, # Randomly zoom image \n",
    "        width_shift_range=0.1,  # randomly shift images horizontally (fraction of total width)\n",
    "        height_shift_range=0.1,  # randomly shift images vertically (fraction of total height)\n",
    "        horizontal_flip=False,  # randomly flip images\n",
    "        vertical_flip=False)  # randomly flip images\n",
    "\n",
    "\n",
    "datagen.fit(X_train)"
   ]
  },
  {
   "cell_type": "code",
   "execution_count": 39,
   "metadata": {},
   "outputs": [
    {
     "name": "stdout",
     "output_type": "stream",
     "text": [
      "Epoch 1/20\n",
      " - 224s - loss: 0.2889 - accuracy: 0.9109 - val_loss: 1.3152 - val_accuracy: 0.5943\n",
      "Epoch 2/20\n",
      " - 244s - loss: 0.1116 - accuracy: 0.9651 - val_loss: 0.0604 - val_accuracy: 0.9819\n",
      "Epoch 3/20\n",
      " - 242s - loss: 0.0862 - accuracy: 0.9722 - val_loss: 0.0373 - val_accuracy: 0.9879\n",
      "Epoch 4/20\n",
      " - 239s - loss: 0.0756 - accuracy: 0.9765 - val_loss: 0.0415 - val_accuracy: 0.9869\n",
      "Epoch 5/20\n",
      " - 225s - loss: 0.0654 - accuracy: 0.9792 - val_loss: 0.0275 - val_accuracy: 0.9900\n",
      "Epoch 6/20\n",
      " - 243s - loss: 0.0628 - accuracy: 0.9801 - val_loss: 0.0331 - val_accuracy: 0.9895\n",
      "Epoch 7/20\n",
      " - 241s - loss: 0.0578 - accuracy: 0.9820 - val_loss: 0.0319 - val_accuracy: 0.9905\n",
      "Epoch 8/20\n",
      " - 228s - loss: 0.0567 - accuracy: 0.9816 - val_loss: 0.0329 - val_accuracy: 0.9893\n",
      "Epoch 9/20\n",
      " - 241s - loss: 0.0510 - accuracy: 0.9833 - val_loss: 0.0269 - val_accuracy: 0.9910\n",
      "Epoch 10/20\n",
      " - 242s - loss: 0.0522 - accuracy: 0.9842 - val_loss: 0.0323 - val_accuracy: 0.9914\n",
      "Epoch 11/20\n",
      " - 220s - loss: 0.0464 - accuracy: 0.9856 - val_loss: 0.0286 - val_accuracy: 0.9917\n",
      "Epoch 12/20\n",
      " - 218s - loss: 0.0491 - accuracy: 0.9848 - val_loss: 0.0270 - val_accuracy: 0.9926\n",
      "Epoch 13/20\n",
      " - 232s - loss: 0.0476 - accuracy: 0.9849 - val_loss: 0.0278 - val_accuracy: 0.9914\n",
      "Epoch 14/20\n",
      " - 242s - loss: 0.0429 - accuracy: 0.9864 - val_loss: 0.0286 - val_accuracy: 0.9912\n",
      "\n",
      "Epoch 00014: ReduceLROnPlateau reducing learning rate to 0.0005000000237487257.\n",
      "Epoch 15/20\n",
      " - 222s - loss: 0.0364 - accuracy: 0.9880 - val_loss: 0.0232 - val_accuracy: 0.9924\n",
      "Epoch 16/20\n",
      " - 223s - loss: 0.0307 - accuracy: 0.9903 - val_loss: 0.0216 - val_accuracy: 0.9936\n",
      "Epoch 17/20\n",
      " - 241s - loss: 0.0308 - accuracy: 0.9900 - val_loss: 0.0184 - val_accuracy: 0.9945\n",
      "Epoch 18/20\n",
      " - 244s - loss: 0.0308 - accuracy: 0.9898 - val_loss: 0.0220 - val_accuracy: 0.9924\n",
      "Epoch 19/20\n",
      " - 236s - loss: 0.0297 - accuracy: 0.9899 - val_loss: 0.0219 - val_accuracy: 0.9931\n",
      "\n",
      "Epoch 00019: ReduceLROnPlateau reducing learning rate to 0.0002500000118743628.\n",
      "Epoch 20/20\n",
      " - 237s - loss: 0.0277 - accuracy: 0.9912 - val_loss: 0.0193 - val_accuracy: 0.9950\n",
      "4200/4200 [==============================] - 8s 2ms/step\n"
     ]
    }
   ],
   "source": [
    "# Fit the model\n",
    "Batch_size = 85\n",
    "learning_rate_check = ReduceLROnPlateau(monitor = 'val_accuracy', patience=2, verbose = 1, factor= 0.5, min_lr = 0.00001)\n",
    "model = define_model()\n",
    "history = model.fit_generator(datagen.flow(X_train,y_train, batch_size=Batch_size),\n",
    "                              epochs = 20, validation_data = (X_val,y_val),\n",
    "                              verbose = 2, steps_per_epoch=X_train.shape[0] // Batch_size\n",
    "                              , callbacks=[learning_rate_check])\n",
    "score = model.evaluate(X_val, y_val, verbose=1)"
   ]
  },
  {
   "cell_type": "code",
   "execution_count": 40,
   "metadata": {},
   "outputs": [
    {
     "name": "stdout",
     "output_type": "stream",
     "text": [
      "Test loss: 0.019332540912160072  \n",
      "Test Accuracy: 0.9950000047683716\n"
     ]
    }
   ],
   "source": [
    "print(\"Test loss: {}  \\nTest Accuracy: {}\".format(score[0], score[1]))"
   ]
  },
  {
   "cell_type": "code",
   "execution_count": 48,
   "metadata": {},
   "outputs": [
    {
     "data": {
      "text/plain": [
       "{'val_loss': [1.3151697340465727,\n",
       "  0.060426625519591784,\n",
       "  0.037346525003002694,\n",
       "  0.04151109888861399,\n",
       "  0.027523469232117004,\n",
       "  0.03307370429836391,\n",
       "  0.03185930872887617,\n",
       "  0.03293606314705574,\n",
       "  0.026869430052569702,\n",
       "  0.032283109740750486,\n",
       "  0.028587202038588225,\n",
       "  0.026956328286074235,\n",
       "  0.0278208787705461,\n",
       "  0.028594633050705028,\n",
       "  0.02318579954799567,\n",
       "  0.021641632812679744,\n",
       "  0.01837946774515634,\n",
       "  0.021993004402091693,\n",
       "  0.02185060244857942,\n",
       "  0.01933254032148744],\n",
       " 'val_accuracy': [0.5942857265472412,\n",
       "  0.9819047451019287,\n",
       "  0.9878571629524231,\n",
       "  0.9869047403335571,\n",
       "  0.9900000095367432,\n",
       "  0.9895238280296326,\n",
       "  0.9904761910438538,\n",
       "  0.9892857074737549,\n",
       "  0.9909523725509644,\n",
       "  0.991428554058075,\n",
       "  0.9916666746139526,\n",
       "  0.9926190376281738,\n",
       "  0.991428554058075,\n",
       "  0.991190493106842,\n",
       "  0.9923809766769409,\n",
       "  0.993571400642395,\n",
       "  0.994523823261261,\n",
       "  0.9923809766769409,\n",
       "  0.9930952191352844,\n",
       "  0.9950000047683716],\n",
       " 'loss': [0.28889351835750693,\n",
       "  0.11159617444504032,\n",
       "  0.08623888853793671,\n",
       "  0.07564102715081567,\n",
       "  0.06543120959789155,\n",
       "  0.06278988239158761,\n",
       "  0.057834305525255474,\n",
       "  0.056713527080719126,\n",
       "  0.051013973769017555,\n",
       "  0.05221004790740784,\n",
       "  0.046365873022124186,\n",
       "  0.049017810393801424,\n",
       "  0.04757833537364223,\n",
       "  0.04290357928617963,\n",
       "  0.036434159749860744,\n",
       "  0.03072934056900209,\n",
       "  0.030708040947489475,\n",
       "  0.030863190495946036,\n",
       "  0.029697787568788832,\n",
       "  0.027712283541622997],\n",
       " 'accuracy': [0.91088426,\n",
       "  0.9650537,\n",
       "  0.9722127,\n",
       "  0.976508,\n",
       "  0.9791595,\n",
       "  0.980061,\n",
       "  0.98202306,\n",
       "  0.98159885,\n",
       "  0.9832693,\n",
       "  0.98420775,\n",
       "  0.98564607,\n",
       "  0.9847806,\n",
       "  0.98488665,\n",
       "  0.9864245,\n",
       "  0.98801535,\n",
       "  0.9903222,\n",
       "  0.990004,\n",
       "  0.9898184,\n",
       "  0.98992443,\n",
       "  0.99117064],\n",
       " 'lr': [0.001,\n",
       "  0.001,\n",
       "  0.001,\n",
       "  0.001,\n",
       "  0.001,\n",
       "  0.001,\n",
       "  0.001,\n",
       "  0.001,\n",
       "  0.001,\n",
       "  0.001,\n",
       "  0.001,\n",
       "  0.001,\n",
       "  0.001,\n",
       "  0.001,\n",
       "  0.0005,\n",
       "  0.0005,\n",
       "  0.0005,\n",
       "  0.0005,\n",
       "  0.0005,\n",
       "  0.00025]}"
      ]
     },
     "execution_count": 48,
     "metadata": {},
     "output_type": "execute_result"
    }
   ],
   "source": [
    "history.history"
   ]
  },
  {
   "cell_type": "code",
   "execution_count": 49,
   "metadata": {},
   "outputs": [],
   "source": [
    "def summarize_diagnostics(history):\n",
    "    # plot loss\n",
    "    plt.subplot(211)\n",
    "    plt.title('Cross Entropy Loss')\n",
    "    plt.plot(history.history['loss'], color='blue', label='train')\n",
    "    plt.plot(history.history['val_loss'], color='orange', label='test')\n",
    "    # plot accuracy\n",
    "    plt.subplot(212)\n",
    "    plt.title('Classification Accuracy')\n",
    "    plt.plot(history.history['accuracy'], color='blue', label='train')\n",
    "    plt.plot(history.history['val_accuracy'], color='orange', label='test')\n",
    "    # save plot to file\n",
    "    #filename = sys.argv[0].split('/')[-1]\n",
    "    #plt.savefig(filename + '_plot.png')\n",
    "    #plt.close()\n",
    "    plt.subplots_adjust(hspace = 0.5, wspace = 0.9)"
   ]
  },
  {
   "cell_type": "code",
   "execution_count": 50,
   "metadata": {},
   "outputs": [
    {
     "data": {
      "image/png": "[encoded data removed]",
      "text/plain": [
       "<Figure size 432x288 with 2 Axes>"
      ]
     },
     "metadata": {
      "needs_background": "light"
     },
     "output_type": "display_data"
    }
   ],
   "source": [
    "summarize_diagnostics(history)"
   ]
  },
  {
   "cell_type": "code",
   "execution_count": 41,
   "metadata": {},
   "outputs": [],
   "source": [
    "#Predict the output on test data\n",
    "y_pred = model.predict(X_test)"
   ]
  },
  {
   "cell_type": "code",
   "execution_count": 29,
   "metadata": {},
   "outputs": [
    {
     "data": {
      "text/plain": [
       "(28000, 10)"
      ]
     },
     "execution_count": 29,
     "metadata": {},
     "output_type": "execute_result"
    }
   ],
   "source": [
    "#prediction score\n",
    "y_pred.shape"
   ]
  },
  {
   "cell_type": "code",
   "execution_count": 42,
   "metadata": {},
   "outputs": [],
   "source": [
    "#get the index value with higest probability\n",
    "y_pred_classes = np.argmax(y_pred,axis = 1) "
   ]
  },
  {
   "cell_type": "code",
   "execution_count": 31,
   "metadata": {},
   "outputs": [
    {
     "data": {
      "text/plain": [
       "(28000,)"
      ]
     },
     "execution_count": 31,
     "metadata": {},
     "output_type": "execute_result"
    }
   ],
   "source": [
    "y_pred_classes.shape"
   ]
  },
  {
   "cell_type": "code",
   "execution_count": 43,
   "metadata": {},
   "outputs": [],
   "source": [
    "#create submission file\n",
    "results = pd.Series(y_pred_classes,name=\"Label\")\n",
    "submission = pd.concat([pd.Series(range(1,28001),name = \"ImageId\"),results],axis = 1)\n",
    "\n",
    "submission.to_csv(\"cnn_mnist_datagen7.csv\",index=False)"
   ]
  },
  {
   "cell_type": "code",
   "execution_count": 46,
   "metadata": {},
   "outputs": [],
   "source": [
    "#Display images with predicted output.\n",
    "def display_img():\n",
    "    fig,axs = plt.subplots(nrows = 2, ncols = 5, figsize=(10,4))\n",
    "    axs = axs.ravel()\n",
    "    for i in range(0,10):\n",
    "        random_select = np.random.randint(0, X_test.shape[0])\n",
    "        axs[i].imshow(X_test[random_select][:,:,0])\n",
    "        axs[i].set_title('predicted label: {}'.format(y_pred_classes[random_select]))\n",
    "        axs[i].axis('off')\n",
    "\n",
    "    plt.subplots_adjust(hspace = 0.3, wspace = 0.7)"
   ]
  },
  {
   "cell_type": "code",
   "execution_count": 47,
   "metadata": {},
   "outputs": [
    {
     "data": {
      "image/png": "[encoded data removed]",
      "text/plain": [
       "<Figure size 720x288 with 10 Axes>"
      ]
     },
     "metadata": {
      "needs_background": "light"
     },
     "output_type": "display_data"
    }
   ],
   "source": [
    "display_img()"
   ]
  }
 ],
 "metadata": {
  "kernelspec": {
   "display_name": "Python 3",
   "language": "python",
   "name": "python3"
  },
  "language_info": {
   "codemirror_mode": {
    "name": "ipython",
    "version": 3
   },
   "file_extension": ".py",
   "mimetype": "text/x-python",
   "name": "python",
   "nbconvert_exporter": "python",
   "pygments_lexer": "ipython3",
   "version": "3.7.6"
  }
 },
 "nbformat": 4,
 "nbformat_minor": 4
}
